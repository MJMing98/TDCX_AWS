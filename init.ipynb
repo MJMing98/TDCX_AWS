{
 "cells": [
  {
   "cell_type": "markdown",
   "id": "05b84313",
   "metadata": {},
   "source": [
    "# Import libraries and set/get AWS properties"
   ]
  },
  {
   "cell_type": "code",
   "execution_count": 2,
   "id": "b9e4b4b0",
   "metadata": {},
   "outputs": [],
   "source": [
    "import pandas as pd\n",
    "import boto3, re, sys, math, json, os, sagemaker, urllib.request, argparse\n",
    "from sagemaker import get_execution_role\n",
    "from sklearn.datasets import fetch_kddcup99\n",
    "from sagemaker.sklearn.estimator import SKLearn\n",
    "from sklearn.model_selection import train_test_split\n",
    "\n",
    "# Define IAM role, session, region, and prefix for data directory\n",
    "role = get_execution_role()\n",
    "session = sagemaker.Session()\n",
    "prefix = 'sagemaker'\n",
    "region = boto3.session.Session().region_name\n",
    "\n",
    "# Create SageMaker client, used for endpoint AI deployment\n",
    "mboto3 = boto3.client('sagemaker')\n",
    "\n",
    "# Set S3 bucket name to store data, as well as boto3 client for S3 services\n",
    "bucketName = 'tdcx-test'\n",
    "s3 = boto3.resource('s3')"
   ]
  },
  {
   "cell_type": "markdown",
   "id": "eaf6b500",
   "metadata": {},
   "source": [
    "# ETL on dataset"
   ]
  },
  {
   "cell_type": "code",
   "execution_count": 3,
   "id": "a5f912e4",
   "metadata": {},
   "outputs": [],
   "source": [
    "# Load KDD Cup dataset using scikit-learn's dataset loader\n",
    "# Set subset to SF to get logged_in is possitive data, allowing us to detect abnormal data as intrusion attacks\n",
    "# Should have a 0.3% of abnormal connections\n",
    "rawData = fetch_kddcup99(subset = 'SF')\n",
    "\n",
    "# Split raw data up into train test split with 70/30 split of train/test data\n",
    "Xtrain, Xtest, Ytrain, Ytest = train_test_split(rawData.data, rawData.target, test_size = 0.3, random_state = 42)\n",
    "\n",
    "# Add label columns to dataset as we will be loading them into our S3 bucket to store said data\n",
    "trainX = pd.DataFrame(Xtrain, columns = rawData.feature_names)\n",
    "testX = pd.DataFrame(Xtest, columns = rawData.feature_names)\n",
    "\n",
    "# Add labels to training/testing data\n",
    "trainX['labels'] = Ytrain\n",
    "testX['labels'] = Ytest"
   ]
  },
  {
   "cell_type": "markdown",
   "id": "dc156059",
   "metadata": {},
   "source": [
    "# Setup training session on Sagemaker"
   ]
  },
  {
   "cell_type": "code",
   "execution_count": 4,
   "id": "582d5750",
   "metadata": {},
   "outputs": [],
   "source": [
    "# Set training/testing data to csv files\n",
    "trainX.to_csv('train.csv', index = False, header = True)\n",
    "testX.to_csv('test.csv', index = False, header = True)\n",
    "\n",
    "# Send data to S3 buckets\n",
    "trainPath = session.upload_data(path = 'train.csv', bucket = bucketName, key_prefix = prefix)\n",
    "testPath = session.upload_data(path = 'test.csv', bucket = bucketName, key_prefix = prefix)"
   ]
  },
  {
   "cell_type": "markdown",
   "id": "bf355a28",
   "metadata": {},
   "source": [
    "# Create estimator"
   ]
  },
  {
   "cell_type": "code",
   "execution_count": 59,
   "id": "f9db8cd0",
   "metadata": {},
   "outputs": [
    {
     "name": "stderr",
     "output_type": "stream",
     "text": [
      "WARNING:sagemaker.deprecations:train_instance_type has been renamed in sagemaker>=2.\n",
      "See: https://sagemaker.readthedocs.io/en/stable/v2.html for details.\n",
      "WARNING:sagemaker.deprecations:train_instance_count has been renamed in sagemaker>=2.\n",
      "See: https://sagemaker.readthedocs.io/en/stable/v2.html for details.\n",
      "WARNING:sagemaker.deprecations:train_instance_count has been renamed in sagemaker>=2.\n",
      "See: https://sagemaker.readthedocs.io/en/stable/v2.html for details.\n",
      "WARNING:sagemaker.deprecations:train_instance_type has been renamed in sagemaker>=2.\n",
      "See: https://sagemaker.readthedocs.io/en/stable/v2.html for details.\n",
      "INFO:sagemaker:Creating training-job with name: rf-scikit-2023-02-12-19-18-32-495\n"
     ]
    },
    {
     "name": "stdout",
     "output_type": "stream",
     "text": [
      "\n",
      "2023-02-12 19:18:33 Starting - Starting the training job....\n",
      "2023-02-12 19:18:56 Starting - Preparing the instances for training............\n",
      "2023-02-12 19:20:00 Downloading - Downloading input data....\n",
      "2023-02-12 19:20:26 Training - Downloading the training image.....\n",
      "2023-02-12 19:20:56 Training - Training image download completed. Training in progress.....\n",
      "2023-02-12 19:21:22 Uploading - Uploading generated training model.\n",
      "2023-02-12 19:21:32 Completed - Training job completed"
     ]
    },
    {
     "name": "stderr",
     "output_type": "stream",
     "text": [
      "INFO:sagemaker:Creating model with name: rf-scikit-2023-02-12-19-21-35-010\n"
     ]
    },
    {
     "name": "stdout",
     "output_type": "stream",
     "text": [
      "\n"
     ]
    },
    {
     "name": "stderr",
     "output_type": "stream",
     "text": [
      "INFO:sagemaker:Creating endpoint-config with name rf-scikit-2023-02-12-19-21-35-010\n",
      "INFO:sagemaker:Creating endpoint with name rf-scikit-2023-02-12-19-21-35-010\n"
     ]
    },
    {
     "name": "stdout",
     "output_type": "stream",
     "text": [
      "-------!"
     ]
    }
   ],
   "source": [
    "# Create Scikit-learn estimator from Sagemaker's SDK\n",
    "estimator = SKLearn(\n",
    "    entry_point = 'trainingScript.py',\n",
    "    role = role,\n",
    "    train_instance_count = 1,\n",
    "    train_instance_type = 'ml.m4.xlarge',\n",
    "    framework_version = '0.20.0',\n",
    "    base_job_name = 'rf-scikit',\n",
    "    hyperparameters = {'n-estimators': 150}\n",
    ")\n",
    "\n",
    "# Fit estimator from S3 bucket data\n",
    "estimator.fit({'train': trainPath, 'test': testPath}, wait = False)\n",
    "\n",
    "estimator.latest_training_job.wait(logs = 'None')\n",
    "artifact = mboto3.describe_training_job(TrainingJobName = estimator.latest_training_job.name)['ModelArtifacts']['S3ModelArtifacts']\n",
    "\n",
    "# Deploy estimator model\n",
    "predictor = estimator.deploy(instance_type = 'ml.t2.medium', initial_instance_count = 1)\n"
   ]
  }
 ],
 "metadata": {
  "kernelspec": {
   "display_name": "conda_python3",
   "language": "python",
   "name": "conda_python3"
  },
  "language_info": {
   "codemirror_mode": {
    "name": "ipython",
    "version": 3
   },
   "file_extension": ".py",
   "mimetype": "text/x-python",
   "name": "python",
   "nbconvert_exporter": "python",
   "pygments_lexer": "ipython3",
   "version": "3.10.6"
  }
 },
 "nbformat": 4,
 "nbformat_minor": 5
}
