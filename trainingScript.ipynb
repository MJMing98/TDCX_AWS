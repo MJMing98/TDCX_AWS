{
 "cells": [
  {
   "cell_type": "markdown",
   "id": "db0bdc5d",
   "metadata": {},
   "source": [
    "# Script for training and scoring inference methods"
   ]
  },
  {
   "cell_type": "code",
   "execution_count": 5,
   "id": "fe969f05",
   "metadata": {},
   "outputs": [
    {
     "name": "stdout",
     "output_type": "stream",
     "text": [
      "Overwriting trainingScript.py\n"
     ]
    }
   ],
   "source": [
    "%%writefile trainingScript.py\n",
    "import argparse, os\n",
    "from sklearn.ensemble import IsolationForest\n",
    "from sklearn.metrics import classification_report \n",
    "from sklearn.externals import joblib\n",
    "\n",
    "# Returns model object from file\n",
    "def model_fn(model_dir):\n",
    "    return joblib.load(os.path.join(model_dir, 'model.joblib'))\n",
    "\n",
    "# Main guard for entry point safety purposes\n",
    "if __name__ == '__main__':\n",
    "    \n",
    "    # Use argument parsers for all parameters\n",
    "    parser = argparse.ArgumentParser()\n",
    "    \n",
    "    # Model parameters (for now we only use estimator count, contamination and bootstrapping parameters)\n",
    "    parser.add_argument('--n-estimators', type = int, default = 100)\n",
    "    parser.add_argument('--contamination', type = str or float, default = 'auto')\n",
    "    parser.add_argument('--bootstrap', type = bool, default = False)\n",
    "    \n",
    "    # Data, model and output directories\n",
    "    parser.add_argument('--model-dir', type = str, default = os.environ.get('SM_MODEL_DIR'))\n",
    "    parser.add_argument('--train', type = str, default = os.environ['SM_CHANNEL_TRAIN'])\n",
    "    parser.add_argument('--test', type = str, default=os.environ['SM_CHANNEL_TEST'])\n",
    "    parser.add_argument('--train-file', type = str, default = 'train.csv')\n",
    "    parser.add_argument('--train-file', type = str, default = 'test.csv')\n",
    "    parser.add_argument('--output-data-dir', type = str, default = os.environ.get('SM_OUTPUT_DATA_DIR'))\n",
    "\n",
    "    args = parser.parse_known_args()\n",
    "\n",
    "    # Get train/test data/labels into dataframes and then drop label column from the data dataframes\n",
    "    Xtrain = pd.read_csv(os.path.join(args.train, args.train_file))\n",
    "    Xtest = pd.read_csv(os.path.join(args.test, args.test_file))\n",
    "    Ytrain = trainData[['labels']]\n",
    "    Ytest = testData[['labels']]\n",
    "    Xtrain.drop(['labels'], axis = 1, inplace = True)\n",
    "    Xtest.drop(['labels'], axis = 1, inplace = True)\n",
    "    \n",
    "    # Define model and train model\n",
    "    model = IsolationForest(n_estimators = args.n_estimators, contamination = args.contamination,\n",
    "                            bootstrap = args.bootstrap, verbose = 1, random_state = 42)\n",
    "    model.fit(Xtrain, Ytrain)\n",
    "    \n",
    "    # Predict labels, then calculate precision, accuracy and recall for model\n",
    "    predLabels = model.predict(Xtest)\n",
    "    report = classification_report(Ytest, predLabels, labels = [0, 1])\n",
    "    print(report)"
   ]
  },
  {
   "cell_type": "code",
   "execution_count": null,
   "id": "2eb25d39",
   "metadata": {},
   "outputs": [],
   "source": []
  }
 ],
 "metadata": {
  "kernelspec": {
   "display_name": "conda_python3",
   "language": "python",
   "name": "conda_python3"
  },
  "language_info": {
   "codemirror_mode": {
    "name": "ipython",
    "version": 3
   },
   "file_extension": ".py",
   "mimetype": "text/x-python",
   "name": "python",
   "nbconvert_exporter": "python",
   "pygments_lexer": "ipython3",
   "version": "3.10.6"
  }
 },
 "nbformat": 4,
 "nbformat_minor": 5
}
